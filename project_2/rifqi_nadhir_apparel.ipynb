{
 "cells": [
  {
   "cell_type": "markdown",
   "id": "6a5be219",
   "metadata": {},
   "source": [
    "**Visualisasi Tableau**: https://public.tableau.com/app/profile/rifqi.nadhir.aziz/viz/visualisasi_sales_data/Story1"
   ]
  },
  {
   "cell_type": "markdown",
   "id": "1f165f03",
   "metadata": {},
   "source": [
    "## **i. Identifikasi Masalah**"
   ]
  },
  {
   "cell_type": "markdown",
   "id": "7f025b66",
   "metadata": {},
   "source": [
    "### **Background**\n",
    "Perusahaan memiliki data penjualan Januari - Agustus 2022 yang mencakup detail transaksi produk. Untuk menjaga daya saing, perusahaan perlu mengetahui produk dan kategori dengan kontribusi terbesar serta memahami faktor-faktor yang berhubungan dengan fluktuasi penjualan. Tujuan utama analisis ini adalah menyusun strategi berbasis data yang mampu meningkatkan total penjualan sebesar 10% dalam 6 bulan ke depan.\n",
    "\n",
    "### **Defining the Problem Statements**\n",
    "\n",
    "**Using SMART framework:**\n",
    "\n",
    "1. Specific: Mengidentifikasi tren penjualan bulanan, produk/kategori terbaik, serta perbedaan preferensi brand antar negara pada periode Januari - Agustus 2022.\n",
    "\n",
    "2. Measurable: Mengukur total penjualan, distribusi penjualan per produk/kategori, serta kontribusi tiap kategori terhadap total penjualan.\n",
    "\n",
    "3. Achievable: Analisis dilakukan menggunakan dataset Januari - Agustus 2022 dan dapat diolah dengan Python dalam waktu 7 hari.\n",
    "\n",
    "4. Relevant: Memberikan insight berbasis data yang mendukung target peningkatan penjualan sebesar 10% dalam 6 bulan ke depan.\n",
    "\n",
    "5. Time-Bound: Analisis diselesaikan dalam 7 hari agar rekomendasi bisa segera diimplementasikan.\n",
    "\n",
    "**Problem statement:**  \n",
    "Mengetahui tren penjualan bulanan, produk/kategori dengan performa tertinggi, kontribusi tiap kategori, serta perbedaan preferensi brand antar negara, agar dapat dirancang strategi peningkatan penjualan sebesar 10% dalam 6 bulan ke depan.\n",
    "\n",
    "**Breaking Down the Problem**    \n",
    "The 5W + 1H:\n",
    "1. Produk apa yang memiliki penjualan tertinggi sepanjang Januari - Agustus 2022?\n",
    "2. Bagaimana tren penjualan bulanan dari Januari - Agustus 2022?\n",
    "3. Bulan mana yang memiliki pertumbuhan penjualan tertinggi dan terendah selama Januari - Agustus 2022?\n",
    "4. Apakah konsumen di negara yang berbeda memiliki preferensi brand yang berbeda?\n",
    "5. Bagaimana kontribusi tiap kategori terhadap total penjualan Januari - Agustus 2022?\n",
    "6. Strategi apa yang dapat dilakukan untuk meningkatkan penjualan sebesar 10% dalam 6 bulan ke depan?\n",
    "\n",
    "**Dataset Description:**  \n",
    "Dataset terdiri dari catatan transaksi penjualan Januari - Agustus 2022, mencakup:\n",
    "- Tanggal transaksi (Date)\n",
    "- Nama produk (Product Name)\n",
    "- Tipe produk (Product Type)\n",
    "- Merek (Brand)\n",
    "- Jenis kelamin (Gender)\n",
    "- Kategori produk (Category)\n",
    "- Negara (Country)\n",
    "- Jumlah unit terjual (Quantity)\n",
    "- Harga unit (Unit Price ($))\n",
    "- Total penjualan (Amount ($))\n",
    "- Metode pembayaran (Payment Mode)\n",
    "\n",
    "**Context:**  \n",
    "Analisis ini bertujuan mengevaluasi penjualan Januari - Agustus 2022 dengan mengidentifikasi produk terlaris, tren bulanan, kontribusi kategori, serta preferensi customer terhadap brand di setiap negara, untuk merumuskan strategi peningkatan penjualan 10% dalam 6 bulan ke depan."
   ]
  },
  {
   "cell_type": "markdown",
   "id": "ca0f3175",
   "metadata": {},
   "source": [
    "## **ii. Data Loading**"
   ]
  },
  {
   "cell_type": "markdown",
   "id": "0cb2e6ce",
   "metadata": {},
   "source": [
    "Berikut sumber dari dataset yang digunakan\n",
    "- Link: https://www.kaggle.com/datasets/atharvasoundankar/sneakers-and-streetwear-sales-2022\n",
    "- Format: csv"
   ]
  },
  {
   "cell_type": "code",
   "execution_count": 10,
   "id": "282d6f39",
   "metadata": {},
   "outputs": [],
   "source": [
    "# Import library yang dibutuhkan\n",
    "import pandas as pd\n",
    "import matplotlib.pyplot as plt\n",
    "import seaborn as sns\n",
    "from scipy import stats\n",
    "from scipy.stats import chi2_contingency"
   ]
  },
  {
   "cell_type": "code",
   "execution_count": 11,
   "id": "cc9faa93",
   "metadata": {},
   "outputs": [
    {
     "data": {
      "text/html": [
       "<div>\n",
       "<style scoped>\n",
       "    .dataframe tbody tr th:only-of-type {\n",
       "        vertical-align: middle;\n",
       "    }\n",
       "\n",
       "    .dataframe tbody tr th {\n",
       "        vertical-align: top;\n",
       "    }\n",
       "\n",
       "    .dataframe thead th {\n",
       "        text-align: right;\n",
       "    }\n",
       "</style>\n",
       "<table border=\"1\" class=\"dataframe\">\n",
       "  <thead>\n",
       "    <tr style=\"text-align: right;\">\n",
       "      <th></th>\n",
       "      <th>Product Name</th>\n",
       "      <th>Product Type</th>\n",
       "      <th>Brand</th>\n",
       "      <th>Gender</th>\n",
       "      <th>Category</th>\n",
       "      <th>Country</th>\n",
       "      <th>Quantity</th>\n",
       "      <th>Unit Price</th>\n",
       "      <th>Amount</th>\n",
       "      <th>Payment Mode</th>\n",
       "    </tr>\n",
       "    <tr>\n",
       "      <th>Date</th>\n",
       "      <th></th>\n",
       "      <th></th>\n",
       "      <th></th>\n",
       "      <th></th>\n",
       "      <th></th>\n",
       "      <th></th>\n",
       "      <th></th>\n",
       "      <th></th>\n",
       "      <th></th>\n",
       "      <th></th>\n",
       "    </tr>\n",
       "  </thead>\n",
       "  <tbody>\n",
       "    <tr>\n",
       "      <th>2022-01-01</th>\n",
       "      <td>Nike Dunk Low</td>\n",
       "      <td>Sneakers</td>\n",
       "      <td>Nike</td>\n",
       "      <td>Women</td>\n",
       "      <td>Streetwear</td>\n",
       "      <td>Japan</td>\n",
       "      <td>2</td>\n",
       "      <td>294.89</td>\n",
       "      <td>589.78</td>\n",
       "      <td>Wallet</td>\n",
       "    </tr>\n",
       "    <tr>\n",
       "      <th>2022-01-01</th>\n",
       "      <td>Yeezy Boost 350</td>\n",
       "      <td>Sneakers</td>\n",
       "      <td>Adidas</td>\n",
       "      <td>Unisex</td>\n",
       "      <td>Casual</td>\n",
       "      <td>USA</td>\n",
       "      <td>1</td>\n",
       "      <td>202.42</td>\n",
       "      <td>202.42</td>\n",
       "      <td>Wallet</td>\n",
       "    </tr>\n",
       "    <tr>\n",
       "      <th>2022-01-02</th>\n",
       "      <td>Jordan 1 High</td>\n",
       "      <td>Sneakers</td>\n",
       "      <td>Nike</td>\n",
       "      <td>Unisex</td>\n",
       "      <td>Sportswear</td>\n",
       "      <td>Japan</td>\n",
       "      <td>4</td>\n",
       "      <td>298.22</td>\n",
       "      <td>1192.88</td>\n",
       "      <td>Wallet</td>\n",
       "    </tr>\n",
       "    <tr>\n",
       "      <th>2022-01-03</th>\n",
       "      <td>Puma Joggers</td>\n",
       "      <td>Joggers</td>\n",
       "      <td>Puma</td>\n",
       "      <td>Women</td>\n",
       "      <td>Limited Edition</td>\n",
       "      <td>Japan</td>\n",
       "      <td>2</td>\n",
       "      <td>267.42</td>\n",
       "      <td>534.84</td>\n",
       "      <td>Cash on Delivery</td>\n",
       "    </tr>\n",
       "    <tr>\n",
       "      <th>2022-01-03</th>\n",
       "      <td>Fear of God Essentials Tee</td>\n",
       "      <td>T-shirt</td>\n",
       "      <td>Essentials</td>\n",
       "      <td>Unisex</td>\n",
       "      <td>Casual</td>\n",
       "      <td>UK</td>\n",
       "      <td>5</td>\n",
       "      <td>73.58</td>\n",
       "      <td>367.90</td>\n",
       "      <td>UPI</td>\n",
       "    </tr>\n",
       "    <tr>\n",
       "      <th>...</th>\n",
       "      <td>...</td>\n",
       "      <td>...</td>\n",
       "      <td>...</td>\n",
       "      <td>...</td>\n",
       "      <td>...</td>\n",
       "      <td>...</td>\n",
       "      <td>...</td>\n",
       "      <td>...</td>\n",
       "      <td>...</td>\n",
       "      <td>...</td>\n",
       "    </tr>\n",
       "    <tr>\n",
       "      <th>2022-08-30</th>\n",
       "      <td>Jordan 1 High</td>\n",
       "      <td>Sneakers</td>\n",
       "      <td>Nike</td>\n",
       "      <td>Women</td>\n",
       "      <td>Limited Edition</td>\n",
       "      <td>UK</td>\n",
       "      <td>3</td>\n",
       "      <td>182.20</td>\n",
       "      <td>546.60</td>\n",
       "      <td>Card</td>\n",
       "    </tr>\n",
       "    <tr>\n",
       "      <th>2022-08-30</th>\n",
       "      <td>Supreme Hoodie</td>\n",
       "      <td>Hoodie</td>\n",
       "      <td>Supreme</td>\n",
       "      <td>Men</td>\n",
       "      <td>Casual</td>\n",
       "      <td>USA</td>\n",
       "      <td>3</td>\n",
       "      <td>242.71</td>\n",
       "      <td>728.13</td>\n",
       "      <td>Cash on Delivery</td>\n",
       "    </tr>\n",
       "    <tr>\n",
       "      <th>2022-08-30</th>\n",
       "      <td>Fear of God Essentials Tee</td>\n",
       "      <td>T-shirt</td>\n",
       "      <td>Essentials</td>\n",
       "      <td>Men</td>\n",
       "      <td>Sportswear</td>\n",
       "      <td>UK</td>\n",
       "      <td>2</td>\n",
       "      <td>111.36</td>\n",
       "      <td>222.72</td>\n",
       "      <td>Card</td>\n",
       "    </tr>\n",
       "    <tr>\n",
       "      <th>2022-08-30</th>\n",
       "      <td>Puma Joggers</td>\n",
       "      <td>Joggers</td>\n",
       "      <td>Puma</td>\n",
       "      <td>Women</td>\n",
       "      <td>Sportswear</td>\n",
       "      <td>Australia</td>\n",
       "      <td>1</td>\n",
       "      <td>132.07</td>\n",
       "      <td>132.07</td>\n",
       "      <td>Wallet</td>\n",
       "    </tr>\n",
       "    <tr>\n",
       "      <th>2022-08-31</th>\n",
       "      <td>Yeezy Boost 350</td>\n",
       "      <td>Sneakers</td>\n",
       "      <td>Adidas</td>\n",
       "      <td>Men</td>\n",
       "      <td>Limited Edition</td>\n",
       "      <td>USA</td>\n",
       "      <td>1</td>\n",
       "      <td>56.49</td>\n",
       "      <td>56.49</td>\n",
       "      <td>UPI</td>\n",
       "    </tr>\n",
       "  </tbody>\n",
       "</table>\n",
       "<p>353 rows × 10 columns</p>\n",
       "</div>"
      ],
      "text/plain": [
       "                          Product Name Product Type       Brand  Gender  \\\n",
       "Date                                                                      \n",
       "2022-01-01               Nike Dunk Low     Sneakers        Nike   Women   \n",
       "2022-01-01             Yeezy Boost 350     Sneakers      Adidas  Unisex   \n",
       "2022-01-02               Jordan 1 High     Sneakers        Nike  Unisex   \n",
       "2022-01-03                Puma Joggers      Joggers        Puma   Women   \n",
       "2022-01-03  Fear of God Essentials Tee      T-shirt  Essentials  Unisex   \n",
       "...                                ...          ...         ...     ...   \n",
       "2022-08-30               Jordan 1 High     Sneakers        Nike   Women   \n",
       "2022-08-30              Supreme Hoodie       Hoodie     Supreme     Men   \n",
       "2022-08-30  Fear of God Essentials Tee      T-shirt  Essentials     Men   \n",
       "2022-08-30                Puma Joggers      Joggers        Puma   Women   \n",
       "2022-08-31             Yeezy Boost 350     Sneakers      Adidas     Men   \n",
       "\n",
       "                   Category    Country  Quantity  Unit Price   Amount  \\\n",
       "Date                                                                    \n",
       "2022-01-01       Streetwear      Japan         2      294.89   589.78   \n",
       "2022-01-01           Casual        USA         1      202.42   202.42   \n",
       "2022-01-02       Sportswear      Japan         4      298.22  1192.88   \n",
       "2022-01-03  Limited Edition      Japan         2      267.42   534.84   \n",
       "2022-01-03           Casual         UK         5       73.58   367.90   \n",
       "...                     ...        ...       ...         ...      ...   \n",
       "2022-08-30  Limited Edition         UK         3      182.20   546.60   \n",
       "2022-08-30           Casual        USA         3      242.71   728.13   \n",
       "2022-08-30       Sportswear         UK         2      111.36   222.72   \n",
       "2022-08-30       Sportswear  Australia         1      132.07   132.07   \n",
       "2022-08-31  Limited Edition        USA         1       56.49    56.49   \n",
       "\n",
       "                Payment Mode  \n",
       "Date                          \n",
       "2022-01-01            Wallet  \n",
       "2022-01-01            Wallet  \n",
       "2022-01-02            Wallet  \n",
       "2022-01-03  Cash on Delivery  \n",
       "2022-01-03               UPI  \n",
       "...                      ...  \n",
       "2022-08-30              Card  \n",
       "2022-08-30  Cash on Delivery  \n",
       "2022-08-30              Card  \n",
       "2022-08-30            Wallet  \n",
       "2022-08-31               UPI  \n",
       "\n",
       "[353 rows x 10 columns]"
      ]
     },
     "execution_count": 11,
     "metadata": {},
     "output_type": "execute_result"
    }
   ],
   "source": [
    "data = pd.read_csv('sales_data.csv', index_col=0) # Untuk membaca file csv\n",
    "data = data.sort_index()                          # Untuk mengurutkan indexnya\n",
    "data                                              # Untuk melihat seluruh isi data"
   ]
  },
  {
   "cell_type": "code",
   "execution_count": 12,
   "id": "4099500f",
   "metadata": {},
   "outputs": [
    {
     "name": "stdout",
     "output_type": "stream",
     "text": [
      "<class 'pandas.core.frame.DataFrame'>\n",
      "Index: 353 entries, 2022-01-01 to 2022-08-31\n",
      "Data columns (total 10 columns):\n",
      " #   Column        Non-Null Count  Dtype  \n",
      "---  ------        --------------  -----  \n",
      " 0   Product Name  353 non-null    object \n",
      " 1   Product Type  353 non-null    object \n",
      " 2   Brand         353 non-null    object \n",
      " 3   Gender        353 non-null    object \n",
      " 4   Category      353 non-null    object \n",
      " 5   Country       353 non-null    object \n",
      " 6   Quantity      353 non-null    int64  \n",
      " 7   Unit Price    353 non-null    float64\n",
      " 8   Amount        353 non-null    float64\n",
      " 9   Payment Mode  353 non-null    object \n",
      "dtypes: float64(2), int64(1), object(7)\n",
      "memory usage: 30.3+ KB\n"
     ]
    }
   ],
   "source": [
    "# Untuk melihat informasi data\n",
    "data.info()"
   ]
  },
  {
   "cell_type": "markdown",
   "id": "29853076",
   "metadata": {},
   "source": [
    "- Baris pada data berjumlah 353 dan kolom berjumlah 10 (kolom order date sudah otomatis menjadi index)\n",
    "- Priode data: 1 Januari 2022 - 31 Agustus 2022\n",
    "- Tidak terdapat missing value\n",
    "- Terdapat 2 kolom yang bertipe float, 1 bertipe integer, dan 7 bertipe object"
   ]
  },
  {
   "cell_type": "code",
   "execution_count": 13,
   "id": "8c6f3852",
   "metadata": {},
   "outputs": [
    {
     "data": {
      "text/plain": [
       "Product Name     10\n",
       "Product Type      5\n",
       "Brand             7\n",
       "Gender            3\n",
       "Category          4\n",
       "Country           7\n",
       "Quantity          5\n",
       "Unit Price      352\n",
       "Amount          353\n",
       "Payment Mode      4\n",
       "dtype: int64"
      ]
     },
     "execution_count": 13,
     "metadata": {},
     "output_type": "execute_result"
    }
   ],
   "source": [
    "# Untuk melihat jumlah distinct value setiap kolom\n",
    "data.nunique()"
   ]
  },
  {
   "cell_type": "code",
   "execution_count": 14,
   "id": "465b827f",
   "metadata": {},
   "outputs": [
    {
     "data": {
      "text/html": [
       "<div>\n",
       "<style scoped>\n",
       "    .dataframe tbody tr th:only-of-type {\n",
       "        vertical-align: middle;\n",
       "    }\n",
       "\n",
       "    .dataframe tbody tr th {\n",
       "        vertical-align: top;\n",
       "    }\n",
       "\n",
       "    .dataframe thead th {\n",
       "        text-align: right;\n",
       "    }\n",
       "</style>\n",
       "<table border=\"1\" class=\"dataframe\">\n",
       "  <thead>\n",
       "    <tr style=\"text-align: right;\">\n",
       "      <th></th>\n",
       "      <th>Quantity</th>\n",
       "      <th>Unit Price</th>\n",
       "      <th>Amount</th>\n",
       "    </tr>\n",
       "  </thead>\n",
       "  <tbody>\n",
       "    <tr>\n",
       "      <th>count</th>\n",
       "      <td>353.000000</td>\n",
       "      <td>353.000000</td>\n",
       "      <td>353.000000</td>\n",
       "    </tr>\n",
       "    <tr>\n",
       "      <th>mean</th>\n",
       "      <td>3.107649</td>\n",
       "      <td>174.607054</td>\n",
       "      <td>547.034193</td>\n",
       "    </tr>\n",
       "    <tr>\n",
       "      <th>std</th>\n",
       "      <td>1.408083</td>\n",
       "      <td>71.625710</td>\n",
       "      <td>343.084461</td>\n",
       "    </tr>\n",
       "    <tr>\n",
       "      <th>min</th>\n",
       "      <td>1.000000</td>\n",
       "      <td>50.100000</td>\n",
       "      <td>50.100000</td>\n",
       "    </tr>\n",
       "    <tr>\n",
       "      <th>25%</th>\n",
       "      <td>2.000000</td>\n",
       "      <td>113.750000</td>\n",
       "      <td>268.780000</td>\n",
       "    </tr>\n",
       "    <tr>\n",
       "      <th>50%</th>\n",
       "      <td>3.000000</td>\n",
       "      <td>175.510000</td>\n",
       "      <td>494.400000</td>\n",
       "    </tr>\n",
       "    <tr>\n",
       "      <th>75%</th>\n",
       "      <td>4.000000</td>\n",
       "      <td>235.500000</td>\n",
       "      <td>783.930000</td>\n",
       "    </tr>\n",
       "    <tr>\n",
       "      <th>max</th>\n",
       "      <td>5.000000</td>\n",
       "      <td>299.730000</td>\n",
       "      <td>1496.500000</td>\n",
       "    </tr>\n",
       "  </tbody>\n",
       "</table>\n",
       "</div>"
      ],
      "text/plain": [
       "         Quantity  Unit Price       Amount\n",
       "count  353.000000  353.000000   353.000000\n",
       "mean     3.107649  174.607054   547.034193\n",
       "std      1.408083   71.625710   343.084461\n",
       "min      1.000000   50.100000    50.100000\n",
       "25%      2.000000  113.750000   268.780000\n",
       "50%      3.000000  175.510000   494.400000\n",
       "75%      4.000000  235.500000   783.930000\n",
       "max      5.000000  299.730000  1496.500000"
      ]
     },
     "execution_count": 14,
     "metadata": {},
     "output_type": "execute_result"
    }
   ],
   "source": [
    "# Untuk melihat perhitungan statistik sederhana\n",
    "data.describe()"
   ]
  },
  {
   "cell_type": "markdown",
   "id": "c494ca56",
   "metadata": {},
   "source": [
    "## **iii. Data Cleaning**"
   ]
  },
  {
   "cell_type": "code",
   "execution_count": 15,
   "id": "21c59f42",
   "metadata": {},
   "outputs": [
    {
     "name": "stdout",
     "output_type": "stream",
     "text": [
      "<class 'pandas.core.frame.DataFrame'>\n",
      "Index: 353 entries, 2022-01-01 to 2022-08-31\n",
      "Data columns (total 10 columns):\n",
      " #   Column        Non-Null Count  Dtype  \n",
      "---  ------        --------------  -----  \n",
      " 0   Product Name  353 non-null    object \n",
      " 1   Product Type  353 non-null    object \n",
      " 2   Brand         353 non-null    object \n",
      " 3   Gender        353 non-null    object \n",
      " 4   Category      353 non-null    object \n",
      " 5   Country       353 non-null    object \n",
      " 6   Quantity      353 non-null    int64  \n",
      " 7   Unit Price    353 non-null    float64\n",
      " 8   Amount        353 non-null    float64\n",
      " 9   Payment Mode  353 non-null    object \n",
      "dtypes: float64(2), int64(1), object(7)\n",
      "memory usage: 30.3+ KB\n"
     ]
    }
   ],
   "source": [
    "# Untuk melihat informasi data \n",
    "data.info()"
   ]
  },
  {
   "cell_type": "markdown",
   "id": "2df68303",
   "metadata": {},
   "source": [
    "- Tipe kolom sudah sesuai dengan isi kolom\n",
    "- Tidak ada missing value"
   ]
  },
  {
   "cell_type": "code",
   "execution_count": 16,
   "id": "20485af2",
   "metadata": {},
   "outputs": [
    {
     "name": "stdout",
     "output_type": "stream",
     "text": [
      "<class 'pandas.core.indexes.base.Index'>\n",
      "Index(['2022-01-01', '2022-01-01', '2022-01-02', '2022-01-03', '2022-01-03',\n",
      "       '2022-01-03', '2022-01-03', '2022-01-04', '2022-01-06', '2022-01-07',\n",
      "       ...\n",
      "       '2022-08-26', '2022-08-26', '2022-08-26', '2022-08-29', '2022-08-30',\n",
      "       '2022-08-30', '2022-08-30', '2022-08-30', '2022-08-30', '2022-08-31'],\n",
      "      dtype='object', name='Date', length=353)\n"
     ]
    }
   ],
   "source": [
    "# Untuk mengecek apakah index date sudah menjadi Datetime index\n",
    "print(type(data.index))\n",
    "print(data.index)"
   ]
  },
  {
   "cell_type": "markdown",
   "id": "3f690c37",
   "metadata": {},
   "source": [
    "Hasil tersebut menunjukkan bahwa index “Date” masih bertipe object sehingga perlu dikonversi ke DatetimeIndex menggunakan agar dapat digunakan sebagai time index dalam analisis berbasis waktu."
   ]
  },
  {
   "cell_type": "code",
   "execution_count": 26,
   "id": "9d6f7747",
   "metadata": {},
   "outputs": [
    {
     "name": "stdout",
     "output_type": "stream",
     "text": [
      "DatetimeIndex(['2022-01-01', '2022-01-01', '2022-01-02', '2022-01-03',\n",
      "               '2022-01-03', '2022-01-03', '2022-01-03', '2022-01-04',\n",
      "               '2022-01-06', '2022-01-07',\n",
      "               ...\n",
      "               '2022-08-26', '2022-08-26', '2022-08-26', '2022-08-29',\n",
      "               '2022-08-30', '2022-08-30', '2022-08-30', '2022-08-30',\n",
      "               '2022-08-30', '2022-08-31'],\n",
      "              dtype='datetime64[ns]', name='Date', length=353, freq=None)\n"
     ]
    }
   ],
   "source": [
    "# Untuk mengubah tipe data index menjadi Datetime index\n",
    "data.index = pd.to_datetime(data.index)\n",
    "print(data.index)"
   ]
  },
  {
   "cell_type": "code",
   "execution_count": 18,
   "id": "c3d3941c",
   "metadata": {},
   "outputs": [
    {
     "data": {
      "text/plain": [
       "0"
      ]
     },
     "execution_count": 18,
     "metadata": {},
     "output_type": "execute_result"
    }
   ],
   "source": [
    "# Untuk melihat apakah data memiliki duplikasi\n",
    "data.duplicated().sum()"
   ]
  },
  {
   "cell_type": "markdown",
   "id": "52b1e742",
   "metadata": {},
   "source": [
    "Hasilnya tidak terdapat duplikasi pada data"
   ]
  },
  {
   "cell_type": "code",
   "execution_count": 19,
   "id": "aebb4caa",
   "metadata": {},
   "outputs": [],
   "source": [
    "# Untuk menyimpan data yang sudah bersih\n",
    "data.to_csv('sales_data_clean.csv')"
   ]
  },
  {
   "cell_type": "markdown",
   "id": "3c92931a",
   "metadata": {},
   "source": [
    "Karena data sudah bersih maka kita dapat melanjutkan analisis dan perhitungan"
   ]
  },
  {
   "cell_type": "markdown",
   "id": "43028540",
   "metadata": {},
   "source": [
    "## **iv. Analisis dan Perhitungan**"
   ]
  },
  {
   "cell_type": "markdown",
   "id": "ba87bc00",
   "metadata": {},
   "source": [
    "### **1. Produk apa yang memiliki penjualan tertinggi sepanjang Januari - Agustus 2022?**"
   ]
  },
  {
   "cell_type": "code",
   "execution_count": 20,
   "id": "1d83c115",
   "metadata": {},
   "outputs": [
    {
     "name": "stdout",
     "output_type": "stream",
     "text": [
      "Produk dengan penjualan tertinggi (Jan - Agustus 2022):\n",
      "    Product Name  Total Sales\n",
      "Off-White Hoodie     24214.82\n"
     ]
    },
    {
     "data": {
      "image/png": "[encoded data removed]",
      "text/plain": [
       "<Figure size 800x500 with 1 Axes>"
      ]
     },
     "metadata": {},
     "output_type": "display_data"
    }
   ],
   "source": [
    "# Hitung total penjualan per produk\n",
    "top_product = data.groupby('Product Name')['Amount'].sum().sort_values(ascending=False)\n",
    "\n",
    "# Ambil produk teratas\n",
    "top_5 = pd.DataFrame({\n",
    "    \"Product Name\": [top_product.index[0]],\n",
    "    \"Total Sales\": [top_product.iloc[0]]\n",
    "})\n",
    "\n",
    "# Tampilkan hasil rapih\n",
    "print(\"Produk dengan penjualan tertinggi (Jan - Agustus 2022):\")\n",
    "print(top_5.to_string(index=False))\n",
    "\n",
    "# Visualisasi 5 besar produk terlaris\n",
    "top_product.head(5).plot(kind='bar', color='skyblue', figsize=(8,5))\n",
    "plt.title('Top 5 Produk dengan Penjualan Tertinggi')\n",
    "plt.ylabel('Total Penjualan ($)')\n",
    "plt.xlabel('Product Name')\n",
    "plt.xticks(rotation=45, ha='right')\n",
    "plt.show()"
   ]
  },
  {
   "cell_type": "markdown",
   "id": "c942b42c",
   "metadata": {},
   "source": [
    "**Interpretasi:**  \n",
    "Dari diagram di atas, dapat dilihat lima produk dengan jumlah penjualan terbanyak. Produk dengan penjualan tertinggi adalah Off-White Hoodie, dengan total penjualan mencapai $24.214,81."
   ]
  },
  {
   "cell_type": "markdown",
   "id": "80dc7656",
   "metadata": {},
   "source": [
    "### **2. Bagaimana tren penjualan bulanan dari Januari - Agustus 2022?**"
   ]
  },
  {
   "cell_type": "code",
   "execution_count": 21,
   "id": "fef5944a",
   "metadata": {},
   "outputs": [
    {
     "name": "stderr",
     "output_type": "stream",
     "text": [
      "/var/folders/6m/jq9rtsnx7m74rk2b3hzjpmd80000gn/T/ipykernel_3744/826152183.py:2: FutureWarning: 'M' is deprecated and will be removed in a future version, please use 'ME' instead.\n",
      "  penjualan_bulanan = data['Amount'].resample('M').sum()\n"
     ]
    },
    {
     "data": {
      "image/png": "[encoded data removed]",
      "text/plain": [
       "<Figure size 1000x500 with 1 Axes>"
      ]
     },
     "metadata": {},
     "output_type": "display_data"
    },
    {
     "name": "stdout",
     "output_type": "stream",
     "text": [
      "Date\n",
      "2022-01-31    23067.92\n",
      "2022-02-28    20393.54\n",
      "2022-03-31    29043.18\n",
      "2022-04-30    17176.88\n",
      "2022-05-31    20397.44\n",
      "2022-06-30    26089.22\n",
      "2022-07-31    32073.43\n",
      "2022-08-31    24861.46\n",
      "Freq: ME, Name: Amount, dtype: float64\n"
     ]
    }
   ],
   "source": [
    "# Hitung total penjualan per bulan\n",
    "penjualan_bulanan = data['Amount'].resample('M').sum()\n",
    "\n",
    "# Visualisasi tren bulanan\n",
    "plt.figure(figsize=(10,5))\n",
    "penjualan_bulanan.plot(marker='o', linewidth=2, color='skyblue')\n",
    "plt.title('Tren Penjualan Bulanan (Jan 2022 - Agustus 2022)')\n",
    "plt.xlabel('Bulan')\n",
    "plt.ylabel('Total Penjualan ($)')\n",
    "plt.grid(True, linestyle='--', alpha=0.6)\n",
    "plt.show()\n",
    "\n",
    "# Tampilkan data numeriknya\n",
    "print(penjualan_bulanan)"
   ]
  },
  {
   "cell_type": "markdown",
   "id": "5da2ec2c",
   "metadata": {},
   "source": [
    "**Interpretasi:**   \n",
    "Penjualan bulan Januari - Agustus 2022 menunjukkan fluktuasi signifikan. Pada bulan Januari - Februari penjualan turun dari $23.067 ke $20.394. Pada bulan Maret penjualan naik tajam ke $29.043, yang kemungkinan disebabkan oleh produk populer, lalu turun drastis di bulan April ke $17.177. Bulan Mei - Juni penjualan mulai naik kembali dari $20.397 ke $26.089, dan mencapai puncak di bulan Juli dengan total penjualan $32.073, dan sedikit turun di Agustus $24.861. Pola ini menunjukkan karakter musiman, dengan Juli sebagai bulan tertinggi."
   ]
  },
  {
   "cell_type": "markdown",
   "id": "47aa4ce5",
   "metadata": {},
   "source": [
    "### **3. Apakah konsumen di negara yang berbeda memiliki preferensi brand yang berbeda?**"
   ]
  },
  {
   "cell_type": "markdown",
   "id": "94e28f01",
   "metadata": {},
   "source": [
    "**Uji Hipotesis**\n",
    "1. Rumusan Hipotesis\n",
    "- H₀: Preferensi brand sama di semua negara (tidak ada perbedaan signifikan).\n",
    "- H₁: Preferensi brand berbeda antar negara (ada perbedaan signifikan).\n",
    "\n",
    "2. Tingkat sifnifikansi(alpha): 0.05\n",
    "\n",
    "3. Jenis uji: Chi-Square Test of Independence"
   ]
  },
  {
   "cell_type": "code",
   "execution_count": 22,
   "id": "476e675b",
   "metadata": {},
   "outputs": [
    {
     "name": "stdout",
     "output_type": "stream",
     "text": [
      "Chi-Square: 55.83850194183789\n",
      "P-value: 0.018549242505988352\n"
     ]
    }
   ],
   "source": [
    "# Membuat tabel kontingensi antara Brand dan Country\n",
    "contingency = pd.crosstab(data['Brand'], data['Country'])\n",
    "\n",
    "# Melakukan uji Chi-Square pada tabel kontingensi\n",
    "chi2, p, dof, expected = chi2_contingency(contingency)\n",
    "\n",
    "# Menampilkan hasil uji Chi-Square dan p-value\n",
    "print(\"Chi-Square:\", chi2)\n",
    "print(\"P-value:\", p)"
   ]
  },
  {
   "cell_type": "markdown",
   "id": "0cc63673",
   "metadata": {},
   "source": [
    "**Interpretasi:**  \n",
    "Karena P-value (0,018) < 0,05 maka H₀ ditolak. Dengan tingkat kepercayaan 95% dapat disimpulkan bahwa terdapat perbedaan signifikan dalam preferensi brand antar negara. Hal ini menunjukkan bahwa konsumen di setiap negara memiliki brand favorit yang berbeda, sehingga strategi pemasaran, distribusi, dan kampanye iklan sebaiknya disesuaikan dengan preferensi pasar masing-masing negara untuk meningkatkan penjualan."
   ]
  },
  {
   "cell_type": "markdown",
   "id": "4bc30fb9",
   "metadata": {},
   "source": [
    "### **4. Bagaimana kontribusi tiap kategori terhadap total penjualan Januari–Agustus 2022?**"
   ]
  },
  {
   "cell_type": "code",
   "execution_count": 23,
   "id": "94f6bd95",
   "metadata": {},
   "outputs": [
    {
     "data": {
      "image/png": "[encoded data removed]",
      "text/plain": [
       "<Figure size 800x800 with 1 Axes>"
      ]
     },
     "metadata": {},
     "output_type": "display_data"
    }
   ],
   "source": [
    "# Hitung total penjualan per kategori\n",
    "category_sales = data.groupby('Category')['Amount'].sum()\n",
    "\n",
    "# Buat pie chart\n",
    "plt.figure(figsize=(8,8))\n",
    "plt.pie(\n",
    "    category_sales,\n",
    "    labels=category_sales.index,\n",
    "    autopct='%1.1f%%',  # menampilkan persentase\n",
    "    startangle=140,\n",
    "    colors=plt.cm.Paired.colors  # memberi warna berbeda\n",
    ")\n",
    "plt.title('Kontribusi Penjualan per Kategori (Januari - Agustus 2022)')\n",
    "plt.axis('equal')  # supaya pie chart berbentuk lingkaran\n",
    "plt.show()"
   ]
  },
  {
   "cell_type": "markdown",
   "id": "69df36a6",
   "metadata": {},
   "source": [
    "**Interpretasi:**  \n",
    "Berdasarkan diagram di atas, kontribusi penjualan per kategori dari Januari hingga Agustus 2022 menunjukkan bahwa kategori Casual memberikan kontribusi terbesar sebesar 28,2%, diikuti oleh Streetwear sebesar 27,8%, lalu Limited Edition sebesar 23,5%, dan yang terkecil adalah Sportswear sebesar 20,6%. Hal ini mengindikasikan bahwa produk dengan gaya Casual dan Streetwear lebih diminati konsumen dibanding kategori lainnya, sementara Sportswear masih memiliki kontribusi paling rendah terhadap total penjualan. Dengan demikian, perusahaan dapat memprioritaskan strategi pemasaran pada kategori Casual dan Streetwear, namun tetap memperhatikan peluang pengembangan untuk Sportswear dan Limited Edition."
   ]
  },
  {
   "cell_type": "markdown",
   "id": "e4c01d6c",
   "metadata": {},
   "source": [
    "### **5. Strategi apa yang dapat dilakukan untuk meningkatkan penjualan sebesar 10% dalam 6 bulan ke depan?**"
   ]
  },
  {
   "cell_type": "code",
   "execution_count": 24,
   "id": "f4375798",
   "metadata": {},
   "outputs": [
    {
     "name": "stdout",
     "output_type": "stream",
     "text": [
      "Statistik deskriptif kolom numerik:\n",
      "         Quantity  Unit Price       Amount\n",
      "count  353.000000  353.000000   353.000000\n",
      "mean     3.107649  174.607054   547.034193\n",
      "std      1.408083   71.625710   343.084461\n",
      "min      1.000000   50.100000    50.100000\n",
      "25%      2.000000  113.750000   268.780000\n",
      "50%      3.000000  175.510000   494.400000\n",
      "75%      4.000000  235.500000   783.930000\n",
      "max      5.000000  299.730000  1496.500000\n",
      "\n",
      "Total penjualan per kategori:\n",
      "Category\n",
      "Casual             54378.62\n",
      "Streetwear         53725.12\n",
      "Limited Edition    45297.50\n",
      "Sportswear         39701.83\n",
      "Name: Amount, dtype: float64\n",
      "\n",
      "Rata-rata penjualan per produk (Top 5):\n",
      "Product Name\n",
      "Nike Dunk Low        716.193636\n",
      "Jordan 1 High        639.214242\n",
      "Nike Tech Fleece     567.002927\n",
      "Adidas Ultraboost    542.849286\n",
      "Puma Joggers         520.537073\n",
      "Name: Amount, dtype: float64\n",
      "\n",
      "Rata-rata jumlah unit per produk (Top 5):\n",
      "Product Name\n",
      "Jordan 1 High                 3.424242\n",
      "Nike Tech Fleece              3.414634\n",
      "Nike Dunk Low                 3.393939\n",
      "Adidas Ultraboost             3.250000\n",
      "Fear of God Essentials Tee    3.076923\n",
      "Name: Quantity, dtype: float64\n",
      "\n",
      "Persentase kontribusi tiap kategori (%):\n",
      "Category\n",
      "Casual             28.16\n",
      "Streetwear         27.82\n",
      "Limited Edition    23.46\n",
      "Sportswear         20.56\n",
      "Name: Amount, dtype: float64\n"
     ]
    }
   ],
   "source": [
    "# Statistik deskriptif untuk kolom numerik\n",
    "print(\"Statistik deskriptif kolom numerik:\")\n",
    "print(data[['Quantity', 'Unit Price', 'Amount']].describe())\n",
    "\n",
    "# Total penjualan per kategori\n",
    "category_sales = data.groupby('Category')['Amount'].sum().sort_values(ascending=False)\n",
    "print(\"\\nTotal penjualan per kategori:\")\n",
    "print(category_sales)\n",
    "\n",
    "# Rata-rata penjualan per produk\n",
    "product_sales_avg = data.groupby('Product Name')['Amount'].mean().sort_values(ascending=False)\n",
    "print(\"\\nRata-rata penjualan per produk (Top 5):\")\n",
    "print(product_sales_avg.head())\n",
    "\n",
    "# Rata-rata jumlah unit per produk\n",
    "product_quantity_avg = data.groupby('Product Name')['Quantity'].mean().sort_values(ascending=False)\n",
    "print(\"\\nRata-rata jumlah unit per produk (Top 5):\")\n",
    "print(product_quantity_avg.head())\n",
    "\n",
    "# Persentase kontribusi tiap kategori terhadap total penjualan\n",
    "category_percent = (category_sales / category_sales.sum() * 100).round(2)\n",
    "print(\"\\nPersentase kontribusi tiap kategori (%):\")\n",
    "print(category_percent)"
   ]
  },
  {
   "cell_type": "markdown",
   "id": "745bb563",
   "metadata": {},
   "source": [
    "**Interpretasi:**  \n",
    "Berdasarkan data penjualan Januari - Agustus 2022, strategi untuk meningkatkan penjualan sebesar 10% dalam 6 bulan ke depan dapat dilakukan dengan beberapa langkah. Pertama, fokus pada kategori utama yaitu Casual dan Streetwear, karena kedua kategori ini menyumbang lebih dari setengah total penjualan, pastikan stok produk populer selalu tersedia dan buat promosi khusus atau bundling untuk mendorong pembelian lebih banyak. Kedua, optimalkan produk best seller seperti Nike Dunk Low, Jordan 1 High, dan Nike Tech Fleece dengan strategi upselling dan cross-selling untuk meningkatkan jumlah unit terjual. Ketiga, dorong kategori dengan kontribusi lebih rendah, yaitu Limited Edition dan Sportswear, melalui diskon, paket bundling, atau penawaran eksklusif agar kontribusinya meningkat. Keempat, evaluasi harga produk agar tetap kompetitif sambil memberikan margin yang baik, dan manfaatkan diskon terbatas atau promo waktu tertentu untuk mendorong pembelian cepat. Terakhir, jalankan kampanye pemasaran digital yang terarah, seperti iklan media sosial dan email marketing, menargetkan pelanggan yang sebelumnya membeli produk populer."
   ]
  },
  {
   "cell_type": "markdown",
   "id": "31bcec83",
   "metadata": {},
   "source": [
    "## **v. Pengambilan Kesimpulan**"
   ]
  },
  {
   "cell_type": "markdown",
   "id": "8ac2c748",
   "metadata": {},
   "source": [
    "Off-White Hoodie dan kategori Casual serta Streetwear menjadi motor penjualan utama di bulan Januari - Agustus 2022, sementara tren bulanan menunjukkan fluktuasi signifikan dengan puncak di bulan Juli. Preferensi brand berbeda antar negara, sehingga strategi pemasaran dan distribusi sebaiknya disesuaikan dengan karakteristik pasar masing-masing. Untuk meningkatkan penjualan 10% dalam 6 bulan ke depan, perusahaan sebaiknya fokus pada produk dan kategori populer, optimalkan kategori dengan penjualan rendah melalui promosi dan bundling, serta jalankan kampanye digital yang terarah. Strategi ini akan membantu memaksimalkan penjualan sekaligus memanfaatkan peluang pasar secara lebih efektif."
   ]
  }
 ],
 "metadata": {
  "kernelspec": {
   "display_name": "base",
   "language": "python",
   "name": "python3"
  },
  "language_info": {
   "codemirror_mode": {
    "name": "ipython",
    "version": 3
   },
   "file_extension": ".py",
   "mimetype": "text/x-python",
   "name": "python",
   "nbconvert_exporter": "python",
   "pygments_lexer": "ipython3",
   "version": "3.13.5"
  }
 },
 "nbformat": 4,
 "nbformat_minor": 5
}
