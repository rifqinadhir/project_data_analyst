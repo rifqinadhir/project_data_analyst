{
 "cells": [
  {
   "cell_type": "markdown",
   "id": "f0bd092f",
   "metadata": {},
   "source": [
    "## Business Understanding"
   ]
  },
  {
   "cell_type": "markdown",
   "id": "be9bb7b8",
   "metadata": {},
   "source": [
    "### Konteks Bisnis\n",
    "Saat ini, seblak sedang menjadi topik yang sering dibicarakan di media sosial. Banyak food influencer di Instagram, TikTok, dan YouTube membuat konten tentang seblak. Sebagai calon penjual yang ingin memanfaatkan tren ini, saya mempertimbangkan untuk menjual seblak di Tokopedia dengan sistem dropship agar tidak perlu menyiapkan stok barang. Namun, saya menyadari bahwa viral di media sosial bukan berarti laris di marketplace seperti Tokopedia. Bisa saja tren tersebut hanya ramai dibicarakan, tetapi tidak diikuti oleh pembelian yang signifikan. Untuk memastikannya, saya mengumpulkan dan menganalisis data penjualan seblak di Tokopedia. Tujuannya adalah memahami seberapa besar potensi pasar, termasuk tren harga, jumlah terjual, ulasan pelanggan, serta merek yang mendominasi pasar.\n",
    "\n",
    "### Defining the Problem Statements\n",
    "\n",
    "Using SMART framework:\n",
    "\n",
    "1. **Specific**: Menentukan kelayakan bisnis dropship seblak di Tokopedia.\n",
    "\n",
    "2. **Measurable**: Mengumpulkan data minimal 1 halaman dan menghitung rata-rata harga, penjualan, dan rating.\n",
    "\n",
    "3. **Achievable**: Melakukan analisis menggunakan data hasil web scraping yang telah dibersihkan dan diolah dengan Python dalam waktu 4 hari.\n",
    "\n",
    "4. **Relevant**: Mendukung keputusan apakah seblak layak dijadikan produk awal dropship untuk memaksimalkan modal promosi.\n",
    "\n",
    "5. **Time-Bound**: Diselesaikan dalam 4 waktu hari agar strategi dapat dijalankan saat tren masih berlangsung.\n",
    "\n",
    "Problem statement:  \n",
    "\n",
    "Tujuannya adalah untuk menentukan kelayakan penjualan seblak melalui model dropship di Tokopedia dalam waktu 4 hari, dengan menganalisis minimal 1 halaman data dari Tokopedia untuk menilai rata-rata harga, jumlah penjualan, rating produk, dan merek terlaris. Analisis ini dilakukan menggunakan data hasil web scraping yang telah dibersihkan dan diolah dengan tools Python, sehingga dapat menghasilkan keputusan yang tepat mengenai kelayakan produk dan strategi promosi yang efektif selagi tren seblak masih berlangsung."
   ]
  },
  {
   "cell_type": "markdown",
   "id": "6987f9d0",
   "metadata": {},
   "source": [
    "### Breaking Down the Problem\n",
    "The 5W + 1H:\n",
    "- Who: Calon penjual seblak di Tokopedia.\n",
    "- What: Analisis kelayakan bisnis dropship seblak.\n",
    "- Where: Marketplace Tokopedia.\n",
    "- When: Dilakukan dalam 4 hari.\n",
    "- Why: Memastikan tren seblak di media sosial berdampak pada penjualan.\n",
    "- How: Web scraping data, olah dengan Python, analisis harga, penjualan, rating, dan merek terlaris."
   ]
  },
  {
   "cell_type": "markdown",
   "id": "0a8427a0",
   "metadata": {},
   "source": [
    "## Analysis"
   ]
  },
  {
   "cell_type": "code",
   "execution_count": 1,
   "id": "8120b5e0",
   "metadata": {},
   "outputs": [],
   "source": [
    "import pandas as pd      # Untuk olah data tabel (DataFrame)\n",
    "from scipy import stats  # Untuk analisis statistik\n",
    "import numpy as np       # Untuk perhitungan numerik & array"
   ]
  },
  {
   "cell_type": "code",
   "execution_count": null,
   "id": "3a36f36b",
   "metadata": {},
   "outputs": [],
   "source": [
    "data = pd.read_csv('data_Penjualan_Seblak_Clean.csv', index_col=0) # Untuk membaca file csv\n",
    "data # Untuk melihat seluruh isi data"
   ]
  },
  {
   "cell_type": "code",
   "execution_count": 3,
   "id": "8ea33832",
   "metadata": {},
   "outputs": [
    {
     "name": "stdout",
     "output_type": "stream",
     "text": [
      "                           mean   median           std  skewness  kurtosis\n",
      "Harga Produk       29204.608696  22000.0  15905.387363  0.871031 -0.421207\n",
      "Banyaknya Terjual  13391.304348   5000.0  23037.004087  2.983342  9.273372\n",
      "Rating Produk          4.786957      4.8      0.091970  0.277271  0.162894\n"
     ]
    }
   ],
   "source": [
    "# Pilih kolom yang ingin dianalisis\n",
    "cols_to_analyze = [\"Harga Produk\", \"Banyaknya Terjual\", \"Rating Produk\"]\n",
    "\n",
    "# Hitung mean, median, std\n",
    "stat = data[cols_to_analyze].agg(['mean', 'median', 'std']).T\n",
    "\n",
    "# Hitung skewness dan kurtosis\n",
    "stat['skewness'] = data[cols_to_analyze].skew()\n",
    "stat['kurtosis'] = data[cols_to_analyze].kurtosis()\n",
    "\n",
    "# Tampilkan hasil\n",
    "print(stat)"
   ]
  },
  {
   "cell_type": "markdown",
   "id": "a090c28a",
   "metadata": {},
   "source": [
    "### Interpretasi\n",
    "1. Harga Produk\n",
    "Rata-rata harga sekitar Rp 29 ribu dan nilai median Rp 22 ribu, artinya distribusi data agak condong ke kanan (skewness positif) yang berarti ada sebagian produk dengan harga jauh lebih tinggi. Kurtosis negatif (-0.42), artinya data lebih tersebar merata dengan sedikit nilai ekstrem.\n",
    "\n",
    "2. Banyaknya Terjual\n",
    "Rata-rata penjualan seblak sebanyak 13 ribu produk/bulan, tetapi mediannya hanya 5 ribu, artinya ada outlier penjualan yang sangat tinggi. Skewness tinggi (2.98) dan kurtosis sangat tinggi (9.27) menandakan distribusi sangat miring ke kanan dengan beberapa produk yang penjualannya jauh di atas rata-rata.\n",
    "\n",
    "3. Rating Produk\n",
    "Nilai rata-rata hampir sempurna (4.79 dari 5) dengan deviasi standar sangat kecil (0.09), artinya hampir semua produk mendapat rating tinggi. Distribusi simetris (skewness 0.28) dan kurtosis mendekati 0 menunjukkan rating relatif stabil dan tidak ekstrem."
   ]
  },
  {
   "cell_type": "code",
   "execution_count": null,
   "id": "aa25975b",
   "metadata": {},
   "outputs": [],
   "source": [
    "# Membuat kolom baru dengan nama pendapatan dan isi kolomnya yaitu harga produk dikali jumlah terjual\n",
    "data['Pendapatan'] = data['Harga Produk'] * data['Banyaknya Terjual']\n",
    "# Untuk menampilkan semua data\n",
    "data"
   ]
  },
  {
   "cell_type": "code",
   "execution_count": 5,
   "id": "332c46d3",
   "metadata": {},
   "outputs": [
    {
     "name": "stdout",
     "output_type": "stream",
     "text": [
      "Rata-rata Pendapatan: 366,135,869.57\n",
      "Standar Deviasi Pendapatan: 668,444,727.40\n",
      "Lower Bound (95%): 77,078,693.39\n",
      "Upper Bound (95%): 655,193,045.74\n"
     ]
    }
   ],
   "source": [
    "# Ambil data pendapatan\n",
    "pendapatan = data['Pendapatan']\n",
    "\n",
    "# Hitung parameter dasar\n",
    "avg = pendapatan.mean()\n",
    "std = pendapatan.std()\n",
    "n = len(pendapatan)\n",
    "\n",
    "# Hitung standard error\n",
    "std_err = std / np.sqrt(n)\n",
    "\n",
    "# Confidence Interval 95% (pakai t-distribution)\n",
    "conf_level = 0.95\n",
    "low_bound, up_bound = stats.t.interval(conf_level, df=n-1, loc=avg, scale=std_err)\n",
    "\n",
    "# Output\n",
    "print(f'Rata-rata Pendapatan: {avg:,.2f}')\n",
    "print(f'Standar Deviasi Pendapatan: {std:,.2f}')\n",
    "print(f'Lower Bound (95%): {low_bound:,.2f}')\n",
    "print(f'Upper Bound (95%): {up_bound:,.2f}')"
   ]
  },
  {
   "cell_type": "markdown",
   "id": "52cdaa2e",
   "metadata": {},
   "source": [
    "### Interpretasi\n",
    "Rata-rata pendapatan sebesar Rp366 juta dengan standar deviasi Rp668 juta, menunjukkan variasi pendapatan sangat tinggi. Berdasarkan perhitungan dengan Confidence Interval 95%, rata-rata pendapatan perbulan sebenarnya diperkirakan berada pada kisaran Rp77 juta/bulan hingga Rp655 juta/bulan, yang berarti terdapat ketidakpastian cukup besar terhadap estimasi ini. Lebarnya interval dan tingginya standar deviasi mengindikasikan adanya penyebaran data yang luas, kemungkinan dipengaruhi oleh outlier."
   ]
  },
  {
   "cell_type": "markdown",
   "id": "da3c0151",
   "metadata": {},
   "source": [
    "Selanjutnya kita ingin mengetahui apakah harga barang di Jabodetabek dan luar Jabodetabek berbeda mengingat harga bahan baku di kedua lokasi berbeda. Untuk mengetahuinya kita perlu menggunakan uji hipotesis."
   ]
  },
  {
   "cell_type": "markdown",
   "id": "a8629f00",
   "metadata": {},
   "source": [
    "## Uji Hipotesis\n",
    "1. Rumusan Hipotesis\n",
    "- H0: Rata-rata harga di Jabodetabek = rata-rata harga di luar Jabodetabek (tidak ada perbedaan).\n",
    "- H1: Rata-rata harga di Jabodetabek ≠ rata-rata harga di luar Jabodetabek (ada perbedaan).\n",
    "\n",
    "2. Tingkat sifnifikansi(alpha): 0.05\n",
    "\n",
    "3. Jenis uji: Two-tailed independent t-test"
   ]
  },
  {
   "cell_type": "code",
   "execution_count": null,
   "id": "ac5f1439",
   "metadata": {},
   "outputs": [],
   "source": [
    "# 1. Daftar kata kunci kota di Jabodetabek\n",
    "jabodetabek_list = ['Jakarta', 'Bogor', 'Depok', 'Tangerang', 'Bekasi']\n",
    "\n",
    "# 2. Buat kolom Lokasi berdasarkan kecocokan substring kolom Kota Toko\n",
    "data['Lokasi'] = data['Kota Toko'].apply(lambda x: 'Jabodetabek' if any(kota in x for kota in jabodetabek_list) else 'Luar Jabodetabek')\n",
    "data"
   ]
  },
  {
   "cell_type": "code",
   "execution_count": 8,
   "id": "cd37ad20",
   "metadata": {},
   "outputs": [
    {
     "name": "stdout",
     "output_type": "stream",
     "text": [
      "T-statistic: -1.5368\n",
      "P-value: 0.2290\n"
     ]
    }
   ],
   "source": [
    "# Pisahkan data harga berdasarkan lokasi\n",
    "harga_jabodetabek = data[data['Lokasi'] == 'Jabodetabek']['Harga Produk']\n",
    "harga_luar = data[data['Lokasi'] == 'Luar Jabodetabek']['Harga Produk']\n",
    "\n",
    "# Uji t (karena data kecil)\n",
    "t_stat, p_value = stats.ttest_ind(harga_jabodetabek, harga_luar, equal_var=False)\n",
    "\n",
    "print(f\"T-statistic: {t_stat:.4f}\")\n",
    "print(f\"P-value: {p_value:.4f}\")"
   ]
  },
  {
   "cell_type": "markdown",
   "id": "d7d25403",
   "metadata": {},
   "source": [
    "### Interpretasi\n",
    "Karena p-value lebih besar dari tingkat signifikansi (0,05), maka terima H0. Artinya, dengan tingkat kepercayaan 95%, tidak terdapat perbedaan yang signifikan antara harga produk di Jabodetabek dan luar Jabodetabek.\n"
   ]
  },
  {
   "cell_type": "markdown",
   "id": "071e2c69",
   "metadata": {},
   "source": [
    "Kemudian kita ingin menetahui apakah orang cenderung lebih suka dengan produk yang harganya murah. Untuk mengetahuinya kita akan mencari korelasi antar kolom Harga Produk dan Rating Produk."
   ]
  },
  {
   "cell_type": "code",
   "execution_count": 9,
   "id": "c92c007c",
   "metadata": {},
   "outputs": [
    {
     "name": "stdout",
     "output_type": "stream",
     "text": [
      "r-correlation (Pearson): -0.08, p-value: 0.7050\n"
     ]
    }
   ],
   "source": [
    "# Pilih data yang akan diuji\n",
    "harga = data['Harga Produk']\n",
    "rating = data['Rating Produk']\n",
    "\n",
    "# Pearson correlation (asumsi data berdistribusi normal)\n",
    "corr_r, pval_p = stats.pearsonr(harga, rating)\n",
    "\n",
    "# Output hasil\n",
    "print(f\"r-correlation (Pearson): {corr_r:.2f}, p-value: {pval_p:.4f}\")\n"
   ]
  },
  {
   "cell_type": "markdown",
   "id": "f8a4e487",
   "metadata": {},
   "source": [
    "### Interpretasi\n",
    "Berdasarkan uji korelasi Pearson, nilai r sebesar -0.08 menunjukkan hubungan yang sangat lemah dan bersifat negatif antara harga produk dan rating produk. Kemudian nilai p-value sebesar 0.7050 (>0.05) menandakan tidak terdapat hubungan yang signifikan secara statistik, sehingga tidak ada bukti kuat bahwa harga produk memengaruhi rating yang diberikan pembeli."
   ]
  },
  {
   "cell_type": "markdown",
   "id": "252453d5",
   "metadata": {},
   "source": [
    "## Conclusion\n",
    "Berdasarkan analisis, harga seblak di Tokopedia tidak berpengaruh signifikan terhadap rating produk. Ini memberi peluang bagi dropshipper untuk menaikkan harga jual demi mendapatkan margin keuntungan lebih besar, asalkan kualitas produk dari supplier tetap terjaga dan pelayanan ke pembeli cepat serta ramah. Sebagai dropshipper, fokus utama sebaiknya pada memilih supplier terpercaya, memberikan deskripsi produk yang jelas, dan memaksimalkan promosi, sehingga penjualan meningkat tanpa mengorbankan kepuasan pembeli."
   ]
  }
 ],
 "metadata": {
  "kernelspec": {
   "display_name": "base",
   "language": "python",
   "name": "python3"
  },
  "language_info": {
   "codemirror_mode": {
    "name": "ipython",
    "version": 3
   },
   "file_extension": ".py",
   "mimetype": "text/x-python",
   "name": "python",
   "nbconvert_exporter": "python",
   "pygments_lexer": "ipython3",
   "version": "3.13.5"
  }
 },
 "nbformat": 4,
 "nbformat_minor": 5
}
